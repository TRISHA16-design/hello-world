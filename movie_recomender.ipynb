{
  "nbformat": 4,
  "nbformat_minor": 0,
  "metadata": {
    "colab": {
      "provenance": [],
      "authorship_tag": "ABX9TyN3C2MtbeklitViesv1CdkA",
      "include_colab_link": true
    },
    "kernelspec": {
      "name": "python3",
      "display_name": "Python 3"
    },
    "language_info": {
      "name": "python"
    }
  },
  "cells": [
    {
      "cell_type": "markdown",
      "metadata": {
        "id": "view-in-github",
        "colab_type": "text"
      },
      "source": [
        "<a href=\"https://colab.research.google.com/github/TRISHA16-design/hello-world/blob/main/movie_recomender.ipynb\" target=\"_parent\"><img src=\"https://colab.research.google.com/assets/colab-badge.svg\" alt=\"Open In Colab\"/></a>"
      ]
    },
    {
      "cell_type": "code",
      "execution_count": 2,
      "metadata": {
        "colab": {
          "base_uri": "https://localhost:8080/",
          "height": 229
        },
        "id": "dk6itFRDiCM4",
        "outputId": "1aec0050-379a-4e35-dd9e-7bc755d2df6d"
      },
      "outputs": [
        {
          "output_type": "stream",
          "name": "stdout",
          "text": [
            "Please upload your two CSV files:\n"
          ]
        },
        {
          "output_type": "display_data",
          "data": {
            "text/plain": [
              "<IPython.core.display.HTML object>"
            ],
            "text/html": [
              "\n",
              "     <input type=\"file\" id=\"files-9614fe2a-5bc7-47e0-a06a-bcb1777e416d\" name=\"files[]\" multiple disabled\n",
              "        style=\"border:none\" />\n",
              "     <output id=\"result-9614fe2a-5bc7-47e0-a06a-bcb1777e416d\">\n",
              "      Upload widget is only available when the cell has been executed in the\n",
              "      current browser session. Please rerun this cell to enable.\n",
              "      </output>\n",
              "      <script>// Copyright 2017 Google LLC\n",
              "//\n",
              "// Licensed under the Apache License, Version 2.0 (the \"License\");\n",
              "// you may not use this file except in compliance with the License.\n",
              "// You may obtain a copy of the License at\n",
              "//\n",
              "//      http://www.apache.org/licenses/LICENSE-2.0\n",
              "//\n",
              "// Unless required by applicable law or agreed to in writing, software\n",
              "// distributed under the License is distributed on an \"AS IS\" BASIS,\n",
              "// WITHOUT WARRANTIES OR CONDITIONS OF ANY KIND, either express or implied.\n",
              "// See the License for the specific language governing permissions and\n",
              "// limitations under the License.\n",
              "\n",
              "/**\n",
              " * @fileoverview Helpers for google.colab Python module.\n",
              " */\n",
              "(function(scope) {\n",
              "function span(text, styleAttributes = {}) {\n",
              "  const element = document.createElement('span');\n",
              "  element.textContent = text;\n",
              "  for (const key of Object.keys(styleAttributes)) {\n",
              "    element.style[key] = styleAttributes[key];\n",
              "  }\n",
              "  return element;\n",
              "}\n",
              "\n",
              "// Max number of bytes which will be uploaded at a time.\n",
              "const MAX_PAYLOAD_SIZE = 100 * 1024;\n",
              "\n",
              "function _uploadFiles(inputId, outputId) {\n",
              "  const steps = uploadFilesStep(inputId, outputId);\n",
              "  const outputElement = document.getElementById(outputId);\n",
              "  // Cache steps on the outputElement to make it available for the next call\n",
              "  // to uploadFilesContinue from Python.\n",
              "  outputElement.steps = steps;\n",
              "\n",
              "  return _uploadFilesContinue(outputId);\n",
              "}\n",
              "\n",
              "// This is roughly an async generator (not supported in the browser yet),\n",
              "// where there are multiple asynchronous steps and the Python side is going\n",
              "// to poll for completion of each step.\n",
              "// This uses a Promise to block the python side on completion of each step,\n",
              "// then passes the result of the previous step as the input to the next step.\n",
              "function _uploadFilesContinue(outputId) {\n",
              "  const outputElement = document.getElementById(outputId);\n",
              "  const steps = outputElement.steps;\n",
              "\n",
              "  const next = steps.next(outputElement.lastPromiseValue);\n",
              "  return Promise.resolve(next.value.promise).then((value) => {\n",
              "    // Cache the last promise value to make it available to the next\n",
              "    // step of the generator.\n",
              "    outputElement.lastPromiseValue = value;\n",
              "    return next.value.response;\n",
              "  });\n",
              "}\n",
              "\n",
              "/**\n",
              " * Generator function which is called between each async step of the upload\n",
              " * process.\n",
              " * @param {string} inputId Element ID of the input file picker element.\n",
              " * @param {string} outputId Element ID of the output display.\n",
              " * @return {!Iterable<!Object>} Iterable of next steps.\n",
              " */\n",
              "function* uploadFilesStep(inputId, outputId) {\n",
              "  const inputElement = document.getElementById(inputId);\n",
              "  inputElement.disabled = false;\n",
              "\n",
              "  const outputElement = document.getElementById(outputId);\n",
              "  outputElement.innerHTML = '';\n",
              "\n",
              "  const pickedPromise = new Promise((resolve) => {\n",
              "    inputElement.addEventListener('change', (e) => {\n",
              "      resolve(e.target.files);\n",
              "    });\n",
              "  });\n",
              "\n",
              "  const cancel = document.createElement('button');\n",
              "  inputElement.parentElement.appendChild(cancel);\n",
              "  cancel.textContent = 'Cancel upload';\n",
              "  const cancelPromise = new Promise((resolve) => {\n",
              "    cancel.onclick = () => {\n",
              "      resolve(null);\n",
              "    };\n",
              "  });\n",
              "\n",
              "  // Wait for the user to pick the files.\n",
              "  const files = yield {\n",
              "    promise: Promise.race([pickedPromise, cancelPromise]),\n",
              "    response: {\n",
              "      action: 'starting',\n",
              "    }\n",
              "  };\n",
              "\n",
              "  cancel.remove();\n",
              "\n",
              "  // Disable the input element since further picks are not allowed.\n",
              "  inputElement.disabled = true;\n",
              "\n",
              "  if (!files) {\n",
              "    return {\n",
              "      response: {\n",
              "        action: 'complete',\n",
              "      }\n",
              "    };\n",
              "  }\n",
              "\n",
              "  for (const file of files) {\n",
              "    const li = document.createElement('li');\n",
              "    li.append(span(file.name, {fontWeight: 'bold'}));\n",
              "    li.append(span(\n",
              "        `(${file.type || 'n/a'}) - ${file.size} bytes, ` +\n",
              "        `last modified: ${\n",
              "            file.lastModifiedDate ? file.lastModifiedDate.toLocaleDateString() :\n",
              "                                    'n/a'} - `));\n",
              "    const percent = span('0% done');\n",
              "    li.appendChild(percent);\n",
              "\n",
              "    outputElement.appendChild(li);\n",
              "\n",
              "    const fileDataPromise = new Promise((resolve) => {\n",
              "      const reader = new FileReader();\n",
              "      reader.onload = (e) => {\n",
              "        resolve(e.target.result);\n",
              "      };\n",
              "      reader.readAsArrayBuffer(file);\n",
              "    });\n",
              "    // Wait for the data to be ready.\n",
              "    let fileData = yield {\n",
              "      promise: fileDataPromise,\n",
              "      response: {\n",
              "        action: 'continue',\n",
              "      }\n",
              "    };\n",
              "\n",
              "    // Use a chunked sending to avoid message size limits. See b/62115660.\n",
              "    let position = 0;\n",
              "    do {\n",
              "      const length = Math.min(fileData.byteLength - position, MAX_PAYLOAD_SIZE);\n",
              "      const chunk = new Uint8Array(fileData, position, length);\n",
              "      position += length;\n",
              "\n",
              "      const base64 = btoa(String.fromCharCode.apply(null, chunk));\n",
              "      yield {\n",
              "        response: {\n",
              "          action: 'append',\n",
              "          file: file.name,\n",
              "          data: base64,\n",
              "        },\n",
              "      };\n",
              "\n",
              "      let percentDone = fileData.byteLength === 0 ?\n",
              "          100 :\n",
              "          Math.round((position / fileData.byteLength) * 100);\n",
              "      percent.textContent = `${percentDone}% done`;\n",
              "\n",
              "    } while (position < fileData.byteLength);\n",
              "  }\n",
              "\n",
              "  // All done.\n",
              "  yield {\n",
              "    response: {\n",
              "      action: 'complete',\n",
              "    }\n",
              "  };\n",
              "}\n",
              "\n",
              "scope.google = scope.google || {};\n",
              "scope.google.colab = scope.google.colab || {};\n",
              "scope.google.colab._files = {\n",
              "  _uploadFiles,\n",
              "  _uploadFilesContinue,\n",
              "};\n",
              "})(self);\n",
              "</script> "
            ]
          },
          "metadata": {}
        },
        {
          "output_type": "stream",
          "name": "stdout",
          "text": [
            "Saving rotten_tomatoes_movie_reviews-1.csv to rotten_tomatoes_movie_reviews-1.csv\n",
            "Saving rotten_tomatoes_movies.csv to rotten_tomatoes_movies.csv\n",
            "\n",
            "Successfully uploaded 2 file(s):\n",
            "- rotten_tomatoes_movie_reviews-1.csv\n",
            "  Successfully loaded 'rotten_tomatoes_movie_reviews-1.csv' into a DataFrame.\n",
            "- rotten_tomatoes_movies.csv\n",
            "  Successfully loaded 'rotten_tomatoes_movies.csv' into a DataFrame.\n"
          ]
        }
      ],
      "source": [
        "from google.colab import files\n",
        "import pandas as pd\n",
        "import io\n",
        "\n",
        "print(\"Please upload your two CSV files:\")\n",
        "# This will open a dialog. Select both your CSV files.\n",
        "uploaded = files.upload()\n",
        "\n",
        "# Check if files were uploaded\n",
        "if not uploaded:\n",
        "    print(\"No files were uploaded.\")\n",
        "else:\n",
        "    print(f\"\\nSuccessfully uploaded {len(uploaded)} file(s):\")\n",
        "\n",
        "    # Create a dictionary to store your dataframes\n",
        "    dataframes = {}\n",
        "\n",
        "    for file_name, file_content in uploaded.items():\n",
        "        print(f\"- {file_name}\")\n",
        "        if file_name.lower().endswith('.csv'):\n",
        "            try:\n",
        "                # Read the CSV into a pandas DataFrame\n",
        "                df = pd.read_csv(io.BytesIO(file_content))\n",
        "                dataframes[file_name] = df\n",
        "                print(f\"  Successfully loaded '{file_name}' into a DataFrame.\")\n",
        "                # Optionally display the head of each dataframe\n",
        "                # print(\"  First 5 rows:\")\n",
        "                # display(df.head())\n",
        "            except Exception as e:\n",
        "                print(f\"  Error reading CSV '{file_name}': {e}\")\n",
        "        else:\n",
        "            print(f\"  '{file_name}' is not a CSV file and will be ignored for DataFrame creation.\")"
      ]
    },
    {
      "cell_type": "code",
      "source": [
        "# Cell 1: Imports and Initial Data Loading\n",
        "import pandas as pd\n",
        "from sklearn.feature_extraction.text import TfidfVectorizer\n",
        "from sklearn.metrics.pairwise import cosine_similarity\n",
        "\n",
        "print(\"Step 1: Loading and Preparing Data (Part 1 - Loading CSVs)...\")\n",
        "try:\n",
        "    movies_df_full = pd.read_csv('rotten_tomatoes_movies.csv')\n",
        "    reviews_df_full = pd.read_csv('rotten_tomatoes_movie_reviews-1.csv')\n",
        "    print(\"Successfully loaded 'rotten_tomatoes_movies.csv' and 'rotten_tomatoes_movie_reviews.csv'.\")\n",
        "    print(f\"Movies DataFrame Full Shape: {movies_df_full.shape}\")\n",
        "    print(f\"Reviews DataFrame Full Shape: {reviews_df_full.shape}\")\n",
        "except FileNotFoundError:\n",
        "    print(\"Error: Ensure 'rotten_tomatoes_movies.csv' and 'rotten_tomatoes_movie_reviews.csv' are in the same directory.\")\n",
        "    # In a notebook, you might want to stop execution here or handle it by exiting.\n",
        "    # For this script-like structure, we'll allow it to proceed to show where errors would occur.\n",
        "    movies_df_full = pd.DataFrame() # Create empty DFs to avoid immediate errors in subsequent cells if files not found\n",
        "    reviews_df_full = pd.DataFrame()"
      ],
      "metadata": {
        "colab": {
          "base_uri": "https://localhost:8080/"
        },
        "id": "RXXpFpqclaGZ",
        "outputId": "c91140f8-7370-4ded-926f-08aba109ea3b"
      },
      "execution_count": 5,
      "outputs": [
        {
          "output_type": "stream",
          "name": "stdout",
          "text": [
            "Step 1: Loading and Preparing Data (Part 1 - Loading CSVs)...\n",
            "Successfully loaded 'rotten_tomatoes_movies.csv' and 'rotten_tomatoes_movie_reviews.csv'.\n",
            "Movies DataFrame Full Shape: (143258, 16)\n",
            "Reviews DataFrame Full Shape: (241071, 11)\n"
          ]
        }
      ]
    },
    {
      "cell_type": "code",
      "source": [
        "# Cell 2: Data Preprocessing - Aggregating Reviews and Merging\n",
        "print(\"\\nStep 1: Loading and Preparing Data (Part 2 - Aggregating Reviews and Merging)...\")\n",
        "if not movies_df_full.empty and not reviews_df_full.empty:\n",
        "    # Preprocess Reviews: Fill NaN in reviewText and aggregate reviews by movie ID\n",
        "    reviews_df_full['reviewText'] = reviews_df_full['reviewText'].fillna('')\n",
        "    critics_reviews_agg = reviews_df_full.groupby('id')['reviewText'].apply(lambda x: ' '.join(x)).reset_index()\n",
        "    critics_reviews_agg.rename(columns={'reviewText': 'aggregated_reviews'}, inplace=True)\n",
        "    print(f\"Aggregated reviews shape: {critics_reviews_agg.shape}\")\n",
        "\n",
        "    # Merge aggregated reviews with the movies DataFrame\n",
        "    movies_df_merged = pd.merge(movies_df_full, critics_reviews_agg, on='id', how='left')\n",
        "    movies_df_merged['aggregated_reviews'] = movies_df_merged['aggregated_reviews'].fillna('')\n",
        "    print(f\"Merged DataFrame shape: {movies_df_merged.shape}\")\n",
        "    # display(movies_df_merged.head()) # Use display in a Jupyter notebook\n",
        "else:\n",
        "    print(\"Skipping review aggregation and merge as one or both initial DataFrames are empty.\")\n",
        "    movies_df_merged = pd.DataFrame() # Ensure movies_df_merged is defined"
      ],
      "metadata": {
        "colab": {
          "base_uri": "https://localhost:8080/"
        },
        "id": "IrnAZO9nlcyI",
        "outputId": "edbba0ac-b291-4536-e365-277424979555"
      },
      "execution_count": 6,
      "outputs": [
        {
          "output_type": "stream",
          "name": "stdout",
          "text": [
            "\n",
            "Step 1: Loading and Preparing Data (Part 2 - Aggregating Reviews and Merging)...\n",
            "Aggregated reviews shape: (11936, 2)\n",
            "Merged DataFrame shape: (143258, 17)\n"
          ]
        }
      ]
    },
    {
      "cell_type": "code",
      "source": [
        "# Cell 3: Limit DataFrame Size and Reset Index\n",
        "print(\"\\nStep 2: Limiting DataFrame to a maximum of 5000 rows and Resetting Index...\")\n",
        "if not movies_df_merged.empty:\n",
        "    if len(movies_df_merged) >= 5000:\n",
        "        movies_df = movies_df_merged.head(5000).copy()\n",
        "        print(f\"DataFrame limited to first 5000 rows.\")\n",
        "    else:\n",
        "        print(f\"DataFrame has {len(movies_df_merged)} rows (less than 5000). Using all available data.\")\n",
        "        movies_df = movies_df_merged.copy()\n",
        "\n",
        "    movies_df.reset_index(drop=True, inplace=True)\n",
        "    print(f\"Working DataFrame shape: {movies_df.shape}\")\n",
        "    # display(movies_df.head())\n",
        "else:\n",
        "    print(\"Skipping DataFrame limiting as merged DataFrame is empty.\")\n",
        "    movies_df = pd.DataFrame() # Ensure movies_df is defined"
      ],
      "metadata": {
        "colab": {
          "base_uri": "https://localhost:8080/"
        },
        "id": "OaVg4Vbelfm_",
        "outputId": "102467f6-3c24-442e-e8f6-f52ace16a644"
      },
      "execution_count": 7,
      "outputs": [
        {
          "output_type": "stream",
          "name": "stdout",
          "text": [
            "\n",
            "Step 2: Limiting DataFrame to a maximum of 5000 rows and Resetting Index...\n",
            "DataFrame limited to first 5000 rows.\n",
            "Working DataFrame shape: (5000, 17)\n"
          ]
        }
      ]
    },
    {
      "cell_type": "code",
      "source": [
        "# Cell 4: Feature Engineering - Helper Functions and Initial Cleaning\n",
        "print(\"\\nStep 3: Feature Engineering (Part 1 - Helper Functions and Initial NaN/Type Handling)...\")\n",
        "\n",
        "if not movies_df.empty:\n",
        "    # Fill NaN values for key features that will be part of the \"soup\"\n",
        "    movies_df['genre'] = movies_df['genre'].fillna('UnknownGenre')\n",
        "    movies_df['director'] = movies_df['director'].fillna('UnknownDirector')\n",
        "    movies_df['ratingContents'] = movies_df['ratingContents'].fillna('')\n",
        "    movies_df['rating'] = movies_df['rating'].fillna('UnknownRating')\n",
        "\n",
        "    # For numerical scores, fill NaN then convert to string with a prefix\n",
        "    movies_df['audienceScore'] = movies_df['audienceScore'].fillna(-1).astype(int)\n",
        "    movies_df['tomatoMeter'] = movies_df['tomatoMeter'].fillna(-1).astype(int)\n",
        "\n",
        "    # Helper function to clean text features (lowercase, remove spaces)\n",
        "    def clean_text_feature(text_input):\n",
        "        return str(text_input).lower().replace(' ', '')\n",
        "\n",
        "    # Helper function to process comma-separated strings (like genre, director)\n",
        "    def process_comma_separated_string(text_series, clean_func):\n",
        "        # Ensure input is string before splitting\n",
        "        return text_series.apply(lambda x: ' '.join([clean_func(i.strip()) for i in str(x).split(',')]))\n",
        "\n",
        "    print(\"Helper functions defined and initial NaN/type handling complete.\")\n",
        "else:\n",
        "    print(\"Skipping Feature Engineering Part 1 as DataFrame is empty.\")"
      ],
      "metadata": {
        "colab": {
          "base_uri": "https://localhost:8080/"
        },
        "id": "ljd0DLQsliFB",
        "outputId": "9a9d2fcb-bf20-4c6f-afd3-4d5c239adabf"
      },
      "execution_count": 8,
      "outputs": [
        {
          "output_type": "stream",
          "name": "stdout",
          "text": [
            "\n",
            "Step 3: Feature Engineering (Part 1 - Helper Functions and Initial NaN/Type Handling)...\n",
            "Helper functions defined and initial NaN/type handling complete.\n"
          ]
        }
      ]
    },
    {
      "cell_type": "code",
      "source": [
        "# Cell 5: Feature Engineering - Creating the \"Content Soup\"\n",
        "print(\"\\nStep 3: Feature Engineering (Part 2 - Cleaning Features and Creating 'Content Soup')...\")\n",
        "\n",
        "if not movies_df.empty and 'genre' in movies_df.columns: # Check if previous cell ran successfully\n",
        "    # Clean and prepare features\n",
        "    movies_df['genre_cleaned'] = process_comma_separated_string(movies_df['genre'], clean_text_feature)\n",
        "    movies_df['director_cleaned'] = process_comma_separated_string(movies_df['director'], clean_text_feature)\n",
        "    movies_df['rating_cleaned'] = movies_df['rating'].apply(clean_text_feature)\n",
        "\n",
        "    # For ratingContents, clean each phrase if comma-separated\n",
        "    movies_df['ratingContents_cleaned'] = movies_df['ratingContents'].apply(\n",
        "        lambda x: ' '.join([clean_text_feature(i.strip()) for i in str(x).split(',') if i.strip()]) # Ensure x is str\n",
        "    )\n",
        "\n",
        "    # Stringify scores\n",
        "    movies_df['audienceScore_str'] = movies_df['audienceScore'].apply(lambda x: f\"audscore{x}\" if x != -1 else \"audscoreunknown\")\n",
        "    movies_df['tomatoMeter_str'] = movies_df['tomatoMeter'].apply(lambda x: f\"tomscore{x}\" if x != -1 else \"tomscoreunknown\")\n",
        "\n",
        "    # Create the content soup - repeating genre and director for higher weight\n",
        "    movies_df['content_soup'] = (\n",
        "        movies_df['genre_cleaned'] + ' ' + movies_df['genre_cleaned'] + ' ' + movies_df['genre_cleaned'] +\n",
        "        movies_df['director_cleaned'] + ' ' + movies_df['director_cleaned'] + ' ' + movies_df['director_cleaned'] +\n",
        "        movies_df['rating_cleaned'] + ' ' +\n",
        "        movies_df['ratingContents_cleaned'] + ' ' +\n",
        "        movies_df['audienceScore_str'] + ' ' +\n",
        "        movies_df['tomatoMeter_str'] + ' ' +\n",
        "        movies_df['aggregated_reviews'].str.lower() # aggregated_reviews should exist from merge\n",
        "    )\n",
        "    print(\"'content_soup' created.\")\n",
        "    # display(movies_df[['title', 'content_soup']].head())\n",
        "else:\n",
        "    print(\"Skipping Content Soup creation as DataFrame is not ready.\")\n",
        "    if 'movies_df' in locals() and not movies_df.empty: # If df exists but soup creation failed\n",
        "        movies_df['content_soup'] = \"\" # Add empty column to avoid error in next cell"
      ],
      "metadata": {
        "colab": {
          "base_uri": "https://localhost:8080/"
        },
        "id": "vUcvD-eAlkUf",
        "outputId": "700a3dbc-65da-4647-8269-f5c2683d7b5e"
      },
      "execution_count": 9,
      "outputs": [
        {
          "output_type": "stream",
          "name": "stdout",
          "text": [
            "\n",
            "Step 3: Feature Engineering (Part 2 - Cleaning Features and Creating 'Content Soup')...\n",
            "'content_soup' created.\n"
          ]
        }
      ]
    },
    {
      "cell_type": "code",
      "source": [
        "# Cell 6: Vectorization using TF-IDF\n",
        "print(\"\\nStep 4: Vectorization using TF-IDF...\")\n",
        "tfidf_matrix = None # Initialize to None\n",
        "if 'content_soup' in movies_df.columns and not movies_df['content_soup'].empty:\n",
        "    if movies_df['content_soup'].isnull().all() or (movies_df['content_soup'] == \"\").all():\n",
        "        print(\"Warning: 'content_soup' column is empty or all NaNs. TF-IDF will result in an empty matrix or error.\")\n",
        "    try:\n",
        "        tfidf_vectorizer = TfidfVectorizer(stop_words='english', ngram_range=(1,2))\n",
        "        tfidf_matrix = tfidf_vectorizer.fit_transform(movies_df['content_soup'])\n",
        "        print(f\"TF-IDF matrix created with shape: {tfidf_matrix.shape}\")\n",
        "    except Exception as e:\n",
        "        print(f\"Error during TF-IDF Vectorization: {e}\")\n",
        "else:\n",
        "    print(\"Skipping TF-IDF. 'content_soup' column is missing, empty, or DataFrame is not ready.\")"
      ],
      "metadata": {
        "colab": {
          "base_uri": "https://localhost:8080/"
        },
        "id": "LuAIdwOxlmt6",
        "outputId": "92bf8605-a58f-4de8-e449-37d1b06b0765"
      },
      "execution_count": 10,
      "outputs": [
        {
          "output_type": "stream",
          "name": "stdout",
          "text": [
            "\n",
            "Step 4: Vectorization using TF-IDF...\n",
            "TF-IDF matrix created with shape: (5000, 516696)\n"
          ]
        }
      ]
    },
    {
      "cell_type": "code",
      "source": [
        "# Cell 7: Calculating Cosine Similarity\n",
        "print(\"\\nStep 5: Calculating Cosine Similarity...\")\n",
        "cosine_sim_matrix = None # Initialize to None\n",
        "if tfidf_matrix is not None:\n",
        "    try:\n",
        "        cosine_sim_matrix = cosine_similarity(tfidf_matrix, tfidf_matrix)\n",
        "        print(f\"Cosine similarity matrix created with shape: {cosine_sim_matrix.shape}\")\n",
        "        # print(cosine_sim_matrix[:2, :2]) # Display a small part\n",
        "    except Exception as e:\n",
        "        print(f\"Error during Cosine Similarity calculation: {e}\")\n",
        "else:\n",
        "    print(\"Skipping cosine similarity. TF-IDF matrix not available.\")"
      ],
      "metadata": {
        "colab": {
          "base_uri": "https://localhost:8080/"
        },
        "id": "XnDnAf-rlpUZ",
        "outputId": "d027a147-a9fc-4901-971a-5e6ac2c9b052"
      },
      "execution_count": 11,
      "outputs": [
        {
          "output_type": "stream",
          "name": "stdout",
          "text": [
            "\n",
            "Step 5: Calculating Cosine Similarity...\n",
            "Cosine similarity matrix created with shape: (5000, 5000)\n"
          ]
        }
      ]
    },
    {
      "cell_type": "code",
      "source": [
        "# Cell 8: Recommendation Function Setup - Title to Index Mapping\n",
        "print(\"\\nStep 6: Setting up Recommendation Function (Part 1 - Title to Index Mapping)...\")\n",
        "title_to_indices = pd.Series(dtype='int') # Initialize as empty Series\n",
        "movies_df_indexed = pd.DataFrame() # Initialize\n",
        "\n",
        "if not movies_df.empty and 'title' in movies_df.columns:\n",
        "    # The DataFrame 'movies_df' is already the limited and correctly indexed version.\n",
        "    movies_df_indexed = movies_df # This is our working DataFrame for recommendations\n",
        "\n",
        "    # Ensure indices map directly to the current movies_df_indexed (0 to N-1)\n",
        "    title_to_indices = pd.Series(movies_df_indexed.index, index=movies_df_indexed['title']).drop_duplicates()\n",
        "    print(f\"Title to Index mapping created. Size: {len(title_to_indices)}\")\n",
        "else:\n",
        "    print(\"Cannot create title_to_indices mapping. DataFrame or 'title' column is missing.\")"
      ],
      "metadata": {
        "colab": {
          "base_uri": "https://localhost:8080/"
        },
        "id": "c8IwJOiGlrtt",
        "outputId": "79c55e79-3f83-4377-dda6-43e64796c172"
      },
      "execution_count": 12,
      "outputs": [
        {
          "output_type": "stream",
          "name": "stdout",
          "text": [
            "\n",
            "Step 6: Setting up Recommendation Function (Part 1 - Title to Index Mapping)...\n",
            "Title to Index mapping created. Size: 5000\n"
          ]
        }
      ]
    },
    {
      "cell_type": "code",
      "source": [
        "# Cell 9: Recommendation Function Definition\n",
        "print(\"\\nStep 6: Setting up Recommendation Function (Part 2 - Defining get_movie_recommendations)...\")\n",
        "\n",
        "def get_movie_recommendations(movie_title_input, num_recommendations=10):\n",
        "    if title_to_indices.empty or cosine_sim_matrix is None or movies_df_indexed.empty:\n",
        "        return \"Recommender system is not properly initialized (missing data, index, or similarity matrix).\"\n",
        "\n",
        "    current_movie_title = movie_title_input # Use a temporary variable\n",
        "\n",
        "    if current_movie_title not in title_to_indices:\n",
        "        # Try a case-insensitive partial match\n",
        "        possible_matches = movies_df_indexed[movies_df_indexed['title'].str.contains(current_movie_title, case=False, na=False)]\n",
        "        if not possible_matches.empty:\n",
        "            actual_title = possible_matches['title'].iloc[0]\n",
        "            print(f\"Input '{current_movie_title}' not found directly. Did you mean '{actual_title}'? Showing recommendations for this movie.\")\n",
        "            current_movie_title = actual_title # Update to the found title\n",
        "        else:\n",
        "            return f\"Movie '{movie_title_input}' not found in the dataset.\"\n",
        "\n",
        "    if current_movie_title not in title_to_indices:\n",
        "        return f\"Movie '{current_movie_title}' (derived from '{movie_title_input}') still not found in the dataset index.\"\n",
        "\n",
        "    movie_idx = title_to_indices[current_movie_title]\n",
        "\n",
        "    if movie_idx >= cosine_sim_matrix.shape[0]:\n",
        "        return f\"Error: Movie index {movie_idx} is out of bounds for similarity matrix (size: {cosine_sim_matrix.shape[0]}). This indicates a mismatch.\"\n",
        "\n",
        "    sim_scores = list(enumerate(cosine_sim_matrix[movie_idx]))\n",
        "    sim_scores = sorted(sim_scores, key=lambda x: x[1], reverse=True)\n",
        "    sim_scores = sim_scores[1:num_recommendations + 1] # Exclude the movie itself\n",
        "\n",
        "    recommended_movie_indices = [i[0] for i in sim_scores]\n",
        "\n",
        "    recommendations = []\n",
        "    for i in range(len(recommended_movie_indices)):\n",
        "        rec_idx = recommended_movie_indices[i]\n",
        "        if rec_idx >= len(movies_df_indexed):\n",
        "            print(f\"Warning: Recommended index {rec_idx} is out of bounds for DataFrame (size: {len(movies_df_indexed)}). Skipping.\")\n",
        "            continue\n",
        "        title = movies_df_indexed['title'].iloc[rec_idx]\n",
        "        score = sim_scores[i][1]\n",
        "        recommendations.append(f\"{title} (Similarity: {score:.2f})\")\n",
        "\n",
        "    return pd.Series(recommendations) if recommendations else \"No similar recommendations found.\"\n",
        "\n",
        "print(\"get_movie_recommendations function defined.\")"
      ],
      "metadata": {
        "colab": {
          "base_uri": "https://localhost:8080/"
        },
        "id": "gafMgrnkluBw",
        "outputId": "9dc2887f-bf4e-42ca-8b0e-7ef0fef23348"
      },
      "execution_count": 13,
      "outputs": [
        {
          "output_type": "stream",
          "name": "stdout",
          "text": [
            "\n",
            "Step 6: Setting up Recommendation Function (Part 2 - Defining get_movie_recommendations)...\n",
            "get_movie_recommendations function defined.\n"
          ]
        }
      ]
    },
    {
      "cell_type": "code",
      "source": [
        "# Cell 10: Getting Recommendations - Testing\n",
        "print(\"\\nStep 7: Getting Recommendations (Testing)...\")\n",
        "\n",
        "if not movies_df.empty and cosine_sim_matrix is not None and not title_to_indices.empty:\n",
        "    # Test with the first movie in the (potentially limited) dataset\n",
        "    if not movies_df['title'].empty:\n",
        "        sample_movie_title_1 = movies_df['title'].iloc[0]\n",
        "        if pd.notna(sample_movie_title_1):\n",
        "            print(f\"\\n--- Recommendations for '{sample_movie_title_1}' ---\")\n",
        "            recommendations1 = get_movie_recommendations(sample_movie_title_1, num_recommendations=5)\n",
        "            if isinstance(recommendations1, pd.Series):\n",
        "                for i, rec in enumerate(recommendations1):\n",
        "                    print(f\"{i+1}. {rec}\")\n",
        "            else:\n",
        "                print(recommendations1)\n",
        "        else:\n",
        "            print(\"First movie title in the dataset is NaN, cannot use for testing.\")\n",
        "    else:\n",
        "        print(\"Movie DataFrame has no titles to pick a sample for testing.\")\n",
        "\n",
        "    # Example 2: Test with a specific movie title (e.g., 'Toy Story')\n",
        "    # This will also test the partial match functionality if the exact casing/wording isn't present\n",
        "    test_movie_2 = \"Toy Story\"\n",
        "    print(f\"\\n--- Recommendations for '{test_movie_2}' (or similar) ---\")\n",
        "    recommendations2 = get_movie_recommendations(test_movie_2, num_recommendations=5)\n",
        "    if isinstance(recommendations2, pd.Series):\n",
        "        for i, rec in enumerate(recommendations2):\n",
        "            print(f\"{i+1}. {rec}\")\n",
        "    else:\n",
        "        print(recommendations2)\n",
        "\n",
        "    # Example 3: Test with another specific movie title (e.g., 'Inception')\n",
        "    test_movie_3 = \"Inception\"\n",
        "    print(f\"\\n--- Recommendations for '{test_movie_3}' (or similar) ---\")\n",
        "    recommendations3 = get_movie_recommendations(test_movie_3, num_recommendations=5)\n",
        "    if isinstance(recommendations3, pd.Series):\n",
        "        for i, rec in enumerate(recommendations3):\n",
        "            print(f\"{i+1}. {rec}\")\n",
        "    else:\n",
        "        print(recommendations3)\n",
        "\n",
        "    # Example 4: Test with a movie title that likely doesn't exist\n",
        "    test_movie_4 = \"A Truly Unique Movie Title That Does Not Exist 12345\"\n",
        "    print(f\"\\n--- Recommendations for '{test_movie_4}' ---\")\n",
        "    recommendations4 = get_movie_recommendations(test_movie_4, num_recommendations=5)\n",
        "    print(recommendations4)\n",
        "else:\n",
        "    print(\"\\nCannot generate recommendations. System was not fully initialized (check previous cell outputs for errors).\")"
      ],
      "metadata": {
        "colab": {
          "base_uri": "https://localhost:8080/"
        },
        "id": "4Sv59O00lwXR",
        "outputId": "52d0543d-d9d4-408c-dfd5-94c6640c9037"
      },
      "execution_count": 14,
      "outputs": [
        {
          "output_type": "stream",
          "name": "stdout",
          "text": [
            "\n",
            "Step 7: Getting Recommendations (Testing)...\n",
            "\n",
            "--- Recommendations for 'Space Zombie Bingo!' ---\n",
            "1. Hobgoblins 2 (Similarity: 0.70)\n",
            "2. Teenage Zombies (Similarity: 0.46)\n",
            "3. They Found Hell (Similarity: 0.46)\n",
            "4. Death Dive (Similarity: 0.40)\n",
            "5. Empty (Similarity: 0.39)\n",
            "\n",
            "--- Recommendations for 'Toy Story' (or similar) ---\n",
            "Input 'Toy Story' not found directly. Did you mean 'Charlie: A Toy Story'? Showing recommendations for this movie.\n",
            "1. Behind Office Doors (Similarity: 0.16)\n",
            "2. Pup Tales: Chicken Diddle (Similarity: 0.12)\n",
            "3. Beartooth (Similarity: 0.12)\n",
            "4. Hard to Do Good (Similarity: 0.12)\n",
            "5. Lady Kung Fu (Similarity: 0.12)\n",
            "\n",
            "--- Recommendations for 'Inception' (or similar) ---\n",
            "Movie 'Inception' not found in the dataset.\n",
            "\n",
            "--- Recommendations for 'A Truly Unique Movie Title That Does Not Exist 12345' ---\n",
            "Movie 'A Truly Unique Movie Title That Does Not Exist 12345' not found in the dataset.\n"
          ]
        }
      ]
    }
  ]
}